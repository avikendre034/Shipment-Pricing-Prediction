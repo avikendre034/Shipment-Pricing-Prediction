{
 "cells": [
  {
   "cell_type": "markdown",
   "metadata": {},
   "source": [
    "## - Shipping Price Prediction."
   ]
  },
  {
   "cell_type": "markdown",
   "metadata": {},
   "source": [
    "####  - Problem Statement :\n",
    "\n",
    "The market for supply chain analytics is expected to develop at a CAGR of 17.3 percent from 2019 to 2024, more than doubling in size. This data demonstrates how supply chain organizations are understanding the advantages of being able to predict what will happen in the future with a decent degree of certainty. Supply chain leaders may use this data to address supply chain difficulties, cut costs, and enhance service levels all at the same time.\n",
    "The main goal is to predict the supply chain shipment pricing based on the available factors in the dataset."
   ]
  },
  {
   "cell_type": "code",
   "execution_count": 2,
   "metadata": {
    "scrolled": true
   },
   "outputs": [],
   "source": [
    "import numpy as np\n",
    "np.set_printoptions(precision=2)                    # To display values only upto four decimal places. \n",
    "\n",
    "import pandas as pd\n",
    "pd.set_option('mode.chained_assignment', None)      # To suppress pandas warnings.\n",
    "pd.set_option('display.max_colwidth', -1)           # To display all the data in each column\n",
    "pd.options.display.max_columns = 50\n",
    "pd.set_option('display.float_format',lambda x: '%.2f' % x)                 # To display every column of the dataset in head()\n",
    "\n",
    "import matplotlib.pyplot as plt\n",
    "plt.style.use('seaborn-whitegrid')                  # To apply seaborn whitegrid style to the plots.\n",
    "%matplotlib inline\n",
    "\n",
    "import seaborn as sns\n",
    "sns.set(style='whitegrid', font_scale=1.3, color_codes=True)      # To adjust seaborn settings for the plots.\n",
    "\n",
    "import warnings\n",
    "warnings.filterwarnings('ignore')                    # To suppress all the warnings in the notebook."
   ]
  },
  {
   "cell_type": "code",
   "execution_count": 3,
   "metadata": {},
   "outputs": [],
   "source": [
    "df = pd.read_excel('https://github.com/avikendre034/Shipment-Pricing-Prediction/blob/main/SCMS_Delivery_History_Dataset.xls?raw=true')"
   ]
  },
  {
   "cell_type": "code",
   "execution_count": 10,
   "metadata": {},
   "outputs": [
    {
     "data": {
      "text/plain": [
       "(10324, 33)"
      ]
     },
     "execution_count": 10,
     "metadata": {},
     "output_type": "execute_result"
    }
   ],
   "source": [
    "df.shape"
   ]
  },
  {
   "cell_type": "code",
   "execution_count": 11,
   "metadata": {},
   "outputs": [
    {
     "name": "stdout",
     "output_type": "stream",
     "text": [
      "<class 'pandas.core.frame.DataFrame'>\n",
      "RangeIndex: 10324 entries, 0 to 10323\n",
      "Data columns (total 33 columns):\n",
      " #   Column                        Non-Null Count  Dtype         \n",
      "---  ------                        --------------  -----         \n",
      " 0   ID                            10324 non-null  Int64         \n",
      " 1   Project Code                  10324 non-null  string        \n",
      " 2   PQ #                          10324 non-null  string        \n",
      " 3   PO / SO #                     10324 non-null  string        \n",
      " 4   ASN/DN #                      10324 non-null  string        \n",
      " 5   Country                       10324 non-null  string        \n",
      " 6   Managed By                    10324 non-null  string        \n",
      " 7   Fulfill Via                   10324 non-null  string        \n",
      " 8   Vendor INCO Term              10324 non-null  string        \n",
      " 9   Shipment Mode                 9964 non-null   string        \n",
      " 10  PQ First Sent to Client Date  10324 non-null  object        \n",
      " 11  PO Sent to Vendor Date        10324 non-null  object        \n",
      " 12  Scheduled Delivery Date       10324 non-null  datetime64[ns]\n",
      " 13  Delivered to Client Date      10324 non-null  datetime64[ns]\n",
      " 14  Delivery Recorded Date        10324 non-null  datetime64[ns]\n",
      " 15  Product Group                 10324 non-null  string        \n",
      " 16  Sub Classification            10324 non-null  string        \n",
      " 17  Vendor                        10324 non-null  string        \n",
      " 18  Item Description              10324 non-null  string        \n",
      " 19  Molecule/Test Type            10324 non-null  string        \n",
      " 20  Brand                         10324 non-null  string        \n",
      " 21  Dosage                        8588 non-null   string        \n",
      " 22  Dosage Form                   10324 non-null  string        \n",
      " 23  Unit of Measure (Per Pack)    10324 non-null  Int64         \n",
      " 24  Line Item Quantity            10324 non-null  Int64         \n",
      " 25  Line Item Value               10324 non-null  float64       \n",
      " 26  Pack Price                    10324 non-null  float64       \n",
      " 27  Unit Price                    10324 non-null  float64       \n",
      " 28  Manufacturing Site            10324 non-null  string        \n",
      " 29  First Line Designation        10324 non-null  string        \n",
      " 30  Weight (Kilograms)            10324 non-null  object        \n",
      " 31  Freight Cost (USD)            10324 non-null  object        \n",
      " 32  Line Item Insurance (USD)     10037 non-null  float64       \n",
      "dtypes: Int64(3), datetime64[ns](3), float64(4), object(4), string(19)\n",
      "memory usage: 2.6+ MB\n"
     ]
    }
   ],
   "source": [
    "df.info(max_cols=50)"
   ]
  },
  {
   "cell_type": "code",
   "execution_count": 5,
   "metadata": {
    "scrolled": true
   },
   "outputs": [],
   "source": [
    "df = df.convert_dtypes()"
   ]
  },
  {
   "cell_type": "code",
   "execution_count": 7,
   "metadata": {},
   "outputs": [
    {
     "data": {
      "text/html": [
       "<div>\n",
       "<style scoped>\n",
       "    .dataframe tbody tr th:only-of-type {\n",
       "        vertical-align: middle;\n",
       "    }\n",
       "\n",
       "    .dataframe tbody tr th {\n",
       "        vertical-align: top;\n",
       "    }\n",
       "\n",
       "    .dataframe thead th {\n",
       "        text-align: right;\n",
       "    }\n",
       "</style>\n",
       "<table border=\"1\" class=\"dataframe\">\n",
       "  <thead>\n",
       "    <tr style=\"text-align: right;\">\n",
       "      <th></th>\n",
       "      <th>ID</th>\n",
       "      <th>Project Code</th>\n",
       "      <th>PQ #</th>\n",
       "      <th>PO / SO #</th>\n",
       "      <th>ASN/DN #</th>\n",
       "      <th>Country</th>\n",
       "      <th>Managed By</th>\n",
       "      <th>Fulfill Via</th>\n",
       "      <th>Vendor INCO Term</th>\n",
       "      <th>Shipment Mode</th>\n",
       "      <th>PQ First Sent to Client Date</th>\n",
       "      <th>PO Sent to Vendor Date</th>\n",
       "      <th>Scheduled Delivery Date</th>\n",
       "      <th>Delivered to Client Date</th>\n",
       "      <th>Delivery Recorded Date</th>\n",
       "      <th>Product Group</th>\n",
       "      <th>Sub Classification</th>\n",
       "      <th>Vendor</th>\n",
       "      <th>Item Description</th>\n",
       "      <th>Molecule/Test Type</th>\n",
       "      <th>Brand</th>\n",
       "      <th>Dosage</th>\n",
       "      <th>Dosage Form</th>\n",
       "      <th>Unit of Measure (Per Pack)</th>\n",
       "      <th>Line Item Quantity</th>\n",
       "      <th>Line Item Value</th>\n",
       "      <th>Pack Price</th>\n",
       "      <th>Unit Price</th>\n",
       "      <th>Manufacturing Site</th>\n",
       "      <th>First Line Designation</th>\n",
       "      <th>Weight (Kilograms)</th>\n",
       "      <th>Freight Cost (USD)</th>\n",
       "      <th>Line Item Insurance (USD)</th>\n",
       "    </tr>\n",
       "  </thead>\n",
       "  <tbody>\n",
       "    <tr>\n",
       "      <th>count</th>\n",
       "      <td>10324.00</td>\n",
       "      <td>10324</td>\n",
       "      <td>10324</td>\n",
       "      <td>10324</td>\n",
       "      <td>10324</td>\n",
       "      <td>10324</td>\n",
       "      <td>10324</td>\n",
       "      <td>10324</td>\n",
       "      <td>10324</td>\n",
       "      <td>9964</td>\n",
       "      <td>10324</td>\n",
       "      <td>10324</td>\n",
       "      <td>10324</td>\n",
       "      <td>10324</td>\n",
       "      <td>10324</td>\n",
       "      <td>10324</td>\n",
       "      <td>10324</td>\n",
       "      <td>10324</td>\n",
       "      <td>10324</td>\n",
       "      <td>10324</td>\n",
       "      <td>10324</td>\n",
       "      <td>8588</td>\n",
       "      <td>10324</td>\n",
       "      <td>10324.00</td>\n",
       "      <td>10324.00</td>\n",
       "      <td>10324.00</td>\n",
       "      <td>10324.00</td>\n",
       "      <td>10324.00</td>\n",
       "      <td>10324</td>\n",
       "      <td>10324</td>\n",
       "      <td>10324</td>\n",
       "      <td>10324</td>\n",
       "      <td>10037.00</td>\n",
       "    </tr>\n",
       "    <tr>\n",
       "      <th>unique</th>\n",
       "      <td>nan</td>\n",
       "      <td>142</td>\n",
       "      <td>1237</td>\n",
       "      <td>6233</td>\n",
       "      <td>7030</td>\n",
       "      <td>43</td>\n",
       "      <td>4</td>\n",
       "      <td>2</td>\n",
       "      <td>8</td>\n",
       "      <td>4</td>\n",
       "      <td>765</td>\n",
       "      <td>897</td>\n",
       "      <td>2006</td>\n",
       "      <td>2093</td>\n",
       "      <td>2042</td>\n",
       "      <td>5</td>\n",
       "      <td>6</td>\n",
       "      <td>73</td>\n",
       "      <td>184</td>\n",
       "      <td>86</td>\n",
       "      <td>48</td>\n",
       "      <td>54</td>\n",
       "      <td>17</td>\n",
       "      <td>nan</td>\n",
       "      <td>nan</td>\n",
       "      <td>nan</td>\n",
       "      <td>nan</td>\n",
       "      <td>nan</td>\n",
       "      <td>88</td>\n",
       "      <td>2</td>\n",
       "      <td>4688</td>\n",
       "      <td>6733</td>\n",
       "      <td>nan</td>\n",
       "    </tr>\n",
       "    <tr>\n",
       "      <th>top</th>\n",
       "      <td>nan</td>\n",
       "      <td>116-ZA-T30</td>\n",
       "      <td>Pre-PQ Process</td>\n",
       "      <td>SCMS-199289</td>\n",
       "      <td>ASN-19166</td>\n",
       "      <td>South Africa</td>\n",
       "      <td>PMO - US</td>\n",
       "      <td>From RDC</td>\n",
       "      <td>N/A - From RDC</td>\n",
       "      <td>Air</td>\n",
       "      <td>Pre-PQ Process</td>\n",
       "      <td>N/A - From RDC</td>\n",
       "      <td>2014-08-29 00:00:00</td>\n",
       "      <td>2014-08-29 00:00:00</td>\n",
       "      <td>2014-08-29 00:00:00</td>\n",
       "      <td>ARV</td>\n",
       "      <td>Adult</td>\n",
       "      <td>SCMS from RDC</td>\n",
       "      <td>Efavirenz 600mg, tablets, 30 Tabs</td>\n",
       "      <td>Efavirenz</td>\n",
       "      <td>Generic</td>\n",
       "      <td>300mg</td>\n",
       "      <td>Tablet</td>\n",
       "      <td>nan</td>\n",
       "      <td>nan</td>\n",
       "      <td>nan</td>\n",
       "      <td>nan</td>\n",
       "      <td>nan</td>\n",
       "      <td>Aurobindo Unit III, India</td>\n",
       "      <td>Yes</td>\n",
       "      <td>Weight Captured Separately</td>\n",
       "      <td>Freight Included in Commodity Cost</td>\n",
       "      <td>nan</td>\n",
       "    </tr>\n",
       "    <tr>\n",
       "      <th>freq</th>\n",
       "      <td>nan</td>\n",
       "      <td>768</td>\n",
       "      <td>2681</td>\n",
       "      <td>67</td>\n",
       "      <td>54</td>\n",
       "      <td>1406</td>\n",
       "      <td>10265</td>\n",
       "      <td>5404</td>\n",
       "      <td>5404</td>\n",
       "      <td>6113</td>\n",
       "      <td>2476</td>\n",
       "      <td>5404</td>\n",
       "      <td>97</td>\n",
       "      <td>74</td>\n",
       "      <td>67</td>\n",
       "      <td>8550</td>\n",
       "      <td>6595</td>\n",
       "      <td>5404</td>\n",
       "      <td>755</td>\n",
       "      <td>1125</td>\n",
       "      <td>7285</td>\n",
       "      <td>990</td>\n",
       "      <td>3532</td>\n",
       "      <td>nan</td>\n",
       "      <td>nan</td>\n",
       "      <td>nan</td>\n",
       "      <td>nan</td>\n",
       "      <td>nan</td>\n",
       "      <td>3172</td>\n",
       "      <td>7030</td>\n",
       "      <td>1507</td>\n",
       "      <td>1442</td>\n",
       "      <td>nan</td>\n",
       "    </tr>\n",
       "    <tr>\n",
       "      <th>first</th>\n",
       "      <td>nan</td>\n",
       "      <td>NaN</td>\n",
       "      <td>NaN</td>\n",
       "      <td>NaN</td>\n",
       "      <td>NaN</td>\n",
       "      <td>NaN</td>\n",
       "      <td>NaN</td>\n",
       "      <td>NaN</td>\n",
       "      <td>NaN</td>\n",
       "      <td>NaN</td>\n",
       "      <td>NaN</td>\n",
       "      <td>NaN</td>\n",
       "      <td>2006-05-02 00:00:00</td>\n",
       "      <td>2006-05-02 00:00:00</td>\n",
       "      <td>2006-05-02 00:00:00</td>\n",
       "      <td>NaN</td>\n",
       "      <td>NaN</td>\n",
       "      <td>NaN</td>\n",
       "      <td>NaN</td>\n",
       "      <td>NaN</td>\n",
       "      <td>NaN</td>\n",
       "      <td>NaN</td>\n",
       "      <td>NaN</td>\n",
       "      <td>nan</td>\n",
       "      <td>nan</td>\n",
       "      <td>nan</td>\n",
       "      <td>nan</td>\n",
       "      <td>nan</td>\n",
       "      <td>NaN</td>\n",
       "      <td>NaN</td>\n",
       "      <td>NaN</td>\n",
       "      <td>NaN</td>\n",
       "      <td>nan</td>\n",
       "    </tr>\n",
       "    <tr>\n",
       "      <th>last</th>\n",
       "      <td>nan</td>\n",
       "      <td>NaN</td>\n",
       "      <td>NaN</td>\n",
       "      <td>NaN</td>\n",
       "      <td>NaN</td>\n",
       "      <td>NaN</td>\n",
       "      <td>NaN</td>\n",
       "      <td>NaN</td>\n",
       "      <td>NaN</td>\n",
       "      <td>NaN</td>\n",
       "      <td>NaN</td>\n",
       "      <td>NaN</td>\n",
       "      <td>2015-12-31 00:00:00</td>\n",
       "      <td>2015-09-14 00:00:00</td>\n",
       "      <td>2015-09-14 00:00:00</td>\n",
       "      <td>NaN</td>\n",
       "      <td>NaN</td>\n",
       "      <td>NaN</td>\n",
       "      <td>NaN</td>\n",
       "      <td>NaN</td>\n",
       "      <td>NaN</td>\n",
       "      <td>NaN</td>\n",
       "      <td>NaN</td>\n",
       "      <td>nan</td>\n",
       "      <td>nan</td>\n",
       "      <td>nan</td>\n",
       "      <td>nan</td>\n",
       "      <td>nan</td>\n",
       "      <td>NaN</td>\n",
       "      <td>NaN</td>\n",
       "      <td>NaN</td>\n",
       "      <td>NaN</td>\n",
       "      <td>nan</td>\n",
       "    </tr>\n",
       "    <tr>\n",
       "      <th>mean</th>\n",
       "      <td>51098.97</td>\n",
       "      <td>NaN</td>\n",
       "      <td>NaN</td>\n",
       "      <td>NaN</td>\n",
       "      <td>NaN</td>\n",
       "      <td>NaN</td>\n",
       "      <td>NaN</td>\n",
       "      <td>NaN</td>\n",
       "      <td>NaN</td>\n",
       "      <td>NaN</td>\n",
       "      <td>NaN</td>\n",
       "      <td>NaN</td>\n",
       "      <td>NaN</td>\n",
       "      <td>NaN</td>\n",
       "      <td>NaN</td>\n",
       "      <td>NaN</td>\n",
       "      <td>NaN</td>\n",
       "      <td>NaN</td>\n",
       "      <td>NaN</td>\n",
       "      <td>NaN</td>\n",
       "      <td>NaN</td>\n",
       "      <td>NaN</td>\n",
       "      <td>NaN</td>\n",
       "      <td>77.99</td>\n",
       "      <td>18332.53</td>\n",
       "      <td>157650.57</td>\n",
       "      <td>21.91</td>\n",
       "      <td>0.61</td>\n",
       "      <td>NaN</td>\n",
       "      <td>NaN</td>\n",
       "      <td>NaN</td>\n",
       "      <td>NaN</td>\n",
       "      <td>240.12</td>\n",
       "    </tr>\n",
       "    <tr>\n",
       "      <th>std</th>\n",
       "      <td>31944.33</td>\n",
       "      <td>NaN</td>\n",
       "      <td>NaN</td>\n",
       "      <td>NaN</td>\n",
       "      <td>NaN</td>\n",
       "      <td>NaN</td>\n",
       "      <td>NaN</td>\n",
       "      <td>NaN</td>\n",
       "      <td>NaN</td>\n",
       "      <td>NaN</td>\n",
       "      <td>NaN</td>\n",
       "      <td>NaN</td>\n",
       "      <td>NaN</td>\n",
       "      <td>NaN</td>\n",
       "      <td>NaN</td>\n",
       "      <td>NaN</td>\n",
       "      <td>NaN</td>\n",
       "      <td>NaN</td>\n",
       "      <td>NaN</td>\n",
       "      <td>NaN</td>\n",
       "      <td>NaN</td>\n",
       "      <td>NaN</td>\n",
       "      <td>NaN</td>\n",
       "      <td>76.58</td>\n",
       "      <td>40035.30</td>\n",
       "      <td>345292.07</td>\n",
       "      <td>45.61</td>\n",
       "      <td>3.28</td>\n",
       "      <td>NaN</td>\n",
       "      <td>NaN</td>\n",
       "      <td>NaN</td>\n",
       "      <td>NaN</td>\n",
       "      <td>500.19</td>\n",
       "    </tr>\n",
       "    <tr>\n",
       "      <th>min</th>\n",
       "      <td>1.00</td>\n",
       "      <td>NaN</td>\n",
       "      <td>NaN</td>\n",
       "      <td>NaN</td>\n",
       "      <td>NaN</td>\n",
       "      <td>NaN</td>\n",
       "      <td>NaN</td>\n",
       "      <td>NaN</td>\n",
       "      <td>NaN</td>\n",
       "      <td>NaN</td>\n",
       "      <td>NaN</td>\n",
       "      <td>NaN</td>\n",
       "      <td>NaN</td>\n",
       "      <td>NaN</td>\n",
       "      <td>NaN</td>\n",
       "      <td>NaN</td>\n",
       "      <td>NaN</td>\n",
       "      <td>NaN</td>\n",
       "      <td>NaN</td>\n",
       "      <td>NaN</td>\n",
       "      <td>NaN</td>\n",
       "      <td>NaN</td>\n",
       "      <td>NaN</td>\n",
       "      <td>1.00</td>\n",
       "      <td>1.00</td>\n",
       "      <td>0.00</td>\n",
       "      <td>0.00</td>\n",
       "      <td>0.00</td>\n",
       "      <td>NaN</td>\n",
       "      <td>NaN</td>\n",
       "      <td>NaN</td>\n",
       "      <td>NaN</td>\n",
       "      <td>0.00</td>\n",
       "    </tr>\n",
       "    <tr>\n",
       "      <th>25%</th>\n",
       "      <td>12795.75</td>\n",
       "      <td>NaN</td>\n",
       "      <td>NaN</td>\n",
       "      <td>NaN</td>\n",
       "      <td>NaN</td>\n",
       "      <td>NaN</td>\n",
       "      <td>NaN</td>\n",
       "      <td>NaN</td>\n",
       "      <td>NaN</td>\n",
       "      <td>NaN</td>\n",
       "      <td>NaN</td>\n",
       "      <td>NaN</td>\n",
       "      <td>NaN</td>\n",
       "      <td>NaN</td>\n",
       "      <td>NaN</td>\n",
       "      <td>NaN</td>\n",
       "      <td>NaN</td>\n",
       "      <td>NaN</td>\n",
       "      <td>NaN</td>\n",
       "      <td>NaN</td>\n",
       "      <td>NaN</td>\n",
       "      <td>NaN</td>\n",
       "      <td>NaN</td>\n",
       "      <td>30.00</td>\n",
       "      <td>408.00</td>\n",
       "      <td>4314.59</td>\n",
       "      <td>4.12</td>\n",
       "      <td>0.08</td>\n",
       "      <td>NaN</td>\n",
       "      <td>NaN</td>\n",
       "      <td>NaN</td>\n",
       "      <td>NaN</td>\n",
       "      <td>6.51</td>\n",
       "    </tr>\n",
       "    <tr>\n",
       "      <th>50%</th>\n",
       "      <td>57540.50</td>\n",
       "      <td>NaN</td>\n",
       "      <td>NaN</td>\n",
       "      <td>NaN</td>\n",
       "      <td>NaN</td>\n",
       "      <td>NaN</td>\n",
       "      <td>NaN</td>\n",
       "      <td>NaN</td>\n",
       "      <td>NaN</td>\n",
       "      <td>NaN</td>\n",
       "      <td>NaN</td>\n",
       "      <td>NaN</td>\n",
       "      <td>NaN</td>\n",
       "      <td>NaN</td>\n",
       "      <td>NaN</td>\n",
       "      <td>NaN</td>\n",
       "      <td>NaN</td>\n",
       "      <td>NaN</td>\n",
       "      <td>NaN</td>\n",
       "      <td>NaN</td>\n",
       "      <td>NaN</td>\n",
       "      <td>NaN</td>\n",
       "      <td>NaN</td>\n",
       "      <td>60.00</td>\n",
       "      <td>3000.00</td>\n",
       "      <td>30471.47</td>\n",
       "      <td>9.30</td>\n",
       "      <td>0.16</td>\n",
       "      <td>NaN</td>\n",
       "      <td>NaN</td>\n",
       "      <td>NaN</td>\n",
       "      <td>NaN</td>\n",
       "      <td>47.04</td>\n",
       "    </tr>\n",
       "    <tr>\n",
       "      <th>75%</th>\n",
       "      <td>83648.25</td>\n",
       "      <td>NaN</td>\n",
       "      <td>NaN</td>\n",
       "      <td>NaN</td>\n",
       "      <td>NaN</td>\n",
       "      <td>NaN</td>\n",
       "      <td>NaN</td>\n",
       "      <td>NaN</td>\n",
       "      <td>NaN</td>\n",
       "      <td>NaN</td>\n",
       "      <td>NaN</td>\n",
       "      <td>NaN</td>\n",
       "      <td>NaN</td>\n",
       "      <td>NaN</td>\n",
       "      <td>NaN</td>\n",
       "      <td>NaN</td>\n",
       "      <td>NaN</td>\n",
       "      <td>NaN</td>\n",
       "      <td>NaN</td>\n",
       "      <td>NaN</td>\n",
       "      <td>NaN</td>\n",
       "      <td>NaN</td>\n",
       "      <td>NaN</td>\n",
       "      <td>90.00</td>\n",
       "      <td>17039.75</td>\n",
       "      <td>166447.14</td>\n",
       "      <td>23.59</td>\n",
       "      <td>0.47</td>\n",
       "      <td>NaN</td>\n",
       "      <td>NaN</td>\n",
       "      <td>NaN</td>\n",
       "      <td>NaN</td>\n",
       "      <td>252.40</td>\n",
       "    </tr>\n",
       "    <tr>\n",
       "      <th>max</th>\n",
       "      <td>86823.00</td>\n",
       "      <td>NaN</td>\n",
       "      <td>NaN</td>\n",
       "      <td>NaN</td>\n",
       "      <td>NaN</td>\n",
       "      <td>NaN</td>\n",
       "      <td>NaN</td>\n",
       "      <td>NaN</td>\n",
       "      <td>NaN</td>\n",
       "      <td>NaN</td>\n",
       "      <td>NaN</td>\n",
       "      <td>NaN</td>\n",
       "      <td>NaN</td>\n",
       "      <td>NaN</td>\n",
       "      <td>NaN</td>\n",
       "      <td>NaN</td>\n",
       "      <td>NaN</td>\n",
       "      <td>NaN</td>\n",
       "      <td>NaN</td>\n",
       "      <td>NaN</td>\n",
       "      <td>NaN</td>\n",
       "      <td>NaN</td>\n",
       "      <td>NaN</td>\n",
       "      <td>1000.00</td>\n",
       "      <td>619999.00</td>\n",
       "      <td>5951990.40</td>\n",
       "      <td>1345.64</td>\n",
       "      <td>238.65</td>\n",
       "      <td>NaN</td>\n",
       "      <td>NaN</td>\n",
       "      <td>NaN</td>\n",
       "      <td>NaN</td>\n",
       "      <td>7708.44</td>\n",
       "    </tr>\n",
       "  </tbody>\n",
       "</table>\n",
       "</div>"
      ],
      "text/plain": [
       "             ID Project Code            PQ #    PO / SO #   ASN/DN #  \\\n",
       "count  10324.00  10324        10324           10324        10324       \n",
       "unique nan       142          1237            6233         7030        \n",
       "top    nan       116-ZA-T30   Pre-PQ Process  SCMS-199289  ASN-19166   \n",
       "freq   nan       768          2681            67           54          \n",
       "first  nan       NaN          NaN             NaN          NaN         \n",
       "last   nan       NaN          NaN             NaN          NaN         \n",
       "mean   51098.97  NaN          NaN             NaN          NaN         \n",
       "std    31944.33  NaN          NaN             NaN          NaN         \n",
       "min    1.00      NaN          NaN             NaN          NaN         \n",
       "25%    12795.75  NaN          NaN             NaN          NaN         \n",
       "50%    57540.50  NaN          NaN             NaN          NaN         \n",
       "75%    83648.25  NaN          NaN             NaN          NaN         \n",
       "max    86823.00  NaN          NaN             NaN          NaN         \n",
       "\n",
       "             Country Managed By Fulfill Via Vendor INCO Term Shipment Mode  \\\n",
       "count   10324         10324      10324       10324            9964           \n",
       "unique  43            4          2           8                4              \n",
       "top     South Africa  PMO - US   From RDC    N/A - From RDC   Air            \n",
       "freq    1406          10265      5404        5404             6113           \n",
       "first   NaN           NaN        NaN         NaN              NaN            \n",
       "last    NaN           NaN        NaN         NaN              NaN            \n",
       "mean    NaN           NaN        NaN         NaN              NaN            \n",
       "std     NaN           NaN        NaN         NaN              NaN            \n",
       "min     NaN           NaN        NaN         NaN              NaN            \n",
       "25%     NaN           NaN        NaN         NaN              NaN            \n",
       "50%     NaN           NaN        NaN         NaN              NaN            \n",
       "75%     NaN           NaN        NaN         NaN              NaN            \n",
       "max     NaN           NaN        NaN         NaN              NaN            \n",
       "\n",
       "       PQ First Sent to Client Date PO Sent to Vendor Date  \\\n",
       "count   10324                        10324                   \n",
       "unique  765                          897                     \n",
       "top     Pre-PQ Process               N/A - From RDC          \n",
       "freq    2476                         5404                    \n",
       "first   NaN                          NaN                     \n",
       "last    NaN                          NaN                     \n",
       "mean    NaN                          NaN                     \n",
       "std     NaN                          NaN                     \n",
       "min     NaN                          NaN                     \n",
       "25%     NaN                          NaN                     \n",
       "50%     NaN                          NaN                     \n",
       "75%     NaN                          NaN                     \n",
       "max     NaN                          NaN                     \n",
       "\n",
       "       Scheduled Delivery Date Delivered to Client Date  \\\n",
       "count   10324                   10324                     \n",
       "unique  2006                    2093                      \n",
       "top     2014-08-29 00:00:00     2014-08-29 00:00:00       \n",
       "freq    97                      74                        \n",
       "first   2006-05-02 00:00:00     2006-05-02 00:00:00       \n",
       "last    2015-12-31 00:00:00     2015-09-14 00:00:00       \n",
       "mean    NaN                     NaN                       \n",
       "std     NaN                     NaN                       \n",
       "min     NaN                     NaN                       \n",
       "25%     NaN                     NaN                       \n",
       "50%     NaN                     NaN                       \n",
       "75%     NaN                     NaN                       \n",
       "max     NaN                     NaN                       \n",
       "\n",
       "       Delivery Recorded Date Product Group Sub Classification         Vendor  \\\n",
       "count   10324                  10324         10324              10324           \n",
       "unique  2042                   5             6                  73              \n",
       "top     2014-08-29 00:00:00    ARV           Adult              SCMS from RDC   \n",
       "freq    67                     8550          6595               5404            \n",
       "first   2006-05-02 00:00:00    NaN           NaN                NaN             \n",
       "last    2015-09-14 00:00:00    NaN           NaN                NaN             \n",
       "mean    NaN                    NaN           NaN                NaN             \n",
       "std     NaN                    NaN           NaN                NaN             \n",
       "min     NaN                    NaN           NaN                NaN             \n",
       "25%     NaN                    NaN           NaN                NaN             \n",
       "50%     NaN                    NaN           NaN                NaN             \n",
       "75%     NaN                    NaN           NaN                NaN             \n",
       "max     NaN                    NaN           NaN                NaN             \n",
       "\n",
       "                         Item Description Molecule/Test Type    Brand Dosage  \\\n",
       "count   10324                              10324              10324    8588    \n",
       "unique  184                                86                 48       54      \n",
       "top     Efavirenz 600mg, tablets, 30 Tabs  Efavirenz          Generic  300mg   \n",
       "freq    755                                1125               7285     990     \n",
       "first   NaN                                NaN                NaN      NaN     \n",
       "last    NaN                                NaN                NaN      NaN     \n",
       "mean    NaN                                NaN                NaN      NaN     \n",
       "std     NaN                                NaN                NaN      NaN     \n",
       "min     NaN                                NaN                NaN      NaN     \n",
       "25%     NaN                                NaN                NaN      NaN     \n",
       "50%     NaN                                NaN                NaN      NaN     \n",
       "75%     NaN                                NaN                NaN      NaN     \n",
       "max     NaN                                NaN                NaN      NaN     \n",
       "\n",
       "       Dosage Form  Unit of Measure (Per Pack)  Line Item Quantity  \\\n",
       "count   10324      10324.00                    10324.00              \n",
       "unique  17         nan                         nan                   \n",
       "top     Tablet     nan                         nan                   \n",
       "freq    3532       nan                         nan                   \n",
       "first   NaN        nan                         nan                   \n",
       "last    NaN        nan                         nan                   \n",
       "mean    NaN        77.99                       18332.53              \n",
       "std     NaN        76.58                       40035.30              \n",
       "min     NaN        1.00                        1.00                  \n",
       "25%     NaN        30.00                       408.00                \n",
       "50%     NaN        60.00                       3000.00               \n",
       "75%     NaN        90.00                       17039.75              \n",
       "max     NaN        1000.00                     619999.00             \n",
       "\n",
       "        Line Item Value  Pack Price  Unit Price         Manufacturing Site  \\\n",
       "count  10324.00         10324.00    10324.00     10324                       \n",
       "unique nan              nan         nan          88                          \n",
       "top    nan              nan         nan          Aurobindo Unit III, India   \n",
       "freq   nan              nan         nan          3172                        \n",
       "first  nan              nan         nan          NaN                         \n",
       "last   nan              nan         nan          NaN                         \n",
       "mean   157650.57        21.91       0.61         NaN                         \n",
       "std    345292.07        45.61       3.28         NaN                         \n",
       "min    0.00             0.00        0.00         NaN                         \n",
       "25%    4314.59          4.12        0.08         NaN                         \n",
       "50%    30471.47         9.30        0.16         NaN                         \n",
       "75%    166447.14        23.59       0.47         NaN                         \n",
       "max    5951990.40       1345.64     238.65       NaN                         \n",
       "\n",
       "       First Line Designation          Weight (Kilograms)  \\\n",
       "count   10324                  10324                        \n",
       "unique  2                      4688                         \n",
       "top     Yes                    Weight Captured Separately   \n",
       "freq    7030                   1507                         \n",
       "first   NaN                    NaN                          \n",
       "last    NaN                    NaN                          \n",
       "mean    NaN                    NaN                          \n",
       "std     NaN                    NaN                          \n",
       "min     NaN                    NaN                          \n",
       "25%     NaN                    NaN                          \n",
       "50%     NaN                    NaN                          \n",
       "75%     NaN                    NaN                          \n",
       "max     NaN                    NaN                          \n",
       "\n",
       "                        Freight Cost (USD)  Line Item Insurance (USD)  \n",
       "count   10324                              10037.00                    \n",
       "unique  6733                               nan                         \n",
       "top     Freight Included in Commodity Cost nan                         \n",
       "freq    1442                               nan                         \n",
       "first   NaN                                nan                         \n",
       "last    NaN                                nan                         \n",
       "mean    NaN                                240.12                      \n",
       "std     NaN                                500.19                      \n",
       "min     NaN                                0.00                        \n",
       "25%     NaN                                6.51                        \n",
       "50%     NaN                                47.04                       \n",
       "75%     NaN                                252.40                      \n",
       "max     NaN                                7708.44                     "
      ]
     },
     "execution_count": 7,
     "metadata": {},
     "output_type": "execute_result"
    }
   ],
   "source": [
    "df.describe(include='all')"
   ]
  },
  {
   "cell_type": "code",
   "execution_count": 12,
   "metadata": {},
   "outputs": [
    {
     "data": {
      "text/plain": [
       "count     10324                             \n",
       "unique    6733                              \n",
       "top       Freight Included in Commodity Cost\n",
       "freq      1442                              \n",
       "Name: Freight Cost (USD), dtype: object"
      ]
     },
     "execution_count": 12,
     "metadata": {},
     "output_type": "execute_result"
    }
   ],
   "source": [
    "df['Freight Cost (USD)'].describe()"
   ]
  },
  {
   "cell_type": "code",
   "execution_count": 24,
   "metadata": {},
   "outputs": [
    {
     "data": {
      "text/plain": [
       "count     10324                     \n",
       "unique    4688                      \n",
       "top       Weight Captured Separately\n",
       "freq      1507                      \n",
       "Name: Weight (Kilograms), dtype: object"
      ]
     },
     "execution_count": 24,
     "metadata": {},
     "output_type": "execute_result"
    }
   ],
   "source": [
    "df['Weight (Kilograms)'].describe()"
   ]
  },
  {
   "cell_type": "code",
   "execution_count": null,
   "metadata": {},
   "outputs": [],
   "source": []
  },
  {
   "cell_type": "code",
   "execution_count": null,
   "metadata": {},
   "outputs": [],
   "source": []
  },
  {
   "cell_type": "code",
   "execution_count": null,
   "metadata": {},
   "outputs": [],
   "source": []
  },
  {
   "cell_type": "code",
   "execution_count": null,
   "metadata": {},
   "outputs": [],
   "source": []
  },
  {
   "cell_type": "code",
   "execution_count": 16,
   "metadata": {},
   "outputs": [],
   "source": [
    "comodity_df=df[df['Freight Cost (USD)'] == \"Freight Included in Commodity Cost\"]"
   ]
  },
  {
   "cell_type": "code",
   "execution_count": 20,
   "metadata": {},
   "outputs": [
    {
     "data": {
      "text/plain": [
       "count     1442                      \n",
       "unique    179                       \n",
       "top       Weight Captured Separately\n",
       "freq      1246                      \n",
       "Name: Weight (Kilograms), dtype: object"
      ]
     },
     "execution_count": 20,
     "metadata": {},
     "output_type": "execute_result"
    }
   ],
   "source": [
    "comodity_df['Weight (Kilograms)'].describe()"
   ]
  },
  {
   "cell_type": "code",
   "execution_count": null,
   "metadata": {},
   "outputs": [],
   "source": []
  },
  {
   "cell_type": "code",
   "execution_count": null,
   "metadata": {},
   "outputs": [],
   "source": []
  },
  {
   "cell_type": "code",
   "execution_count": null,
   "metadata": {},
   "outputs": [],
   "source": []
  },
  {
   "cell_type": "code",
   "execution_count": null,
   "metadata": {},
   "outputs": [],
   "source": []
  },
  {
   "cell_type": "code",
   "execution_count": 108,
   "metadata": {},
   "outputs": [
    {
     "data": {
      "text/plain": [
       "<AxesSubplot:>"
      ]
     },
     "execution_count": 108,
     "metadata": {},
     "output_type": "execute_result"
    },
    {
     "data": {
      "image/png": "[encoded data removed]",
      "text/plain": [
       "<Figure size 864x432 with 1 Axes>"
      ]
     },
     "metadata": {},
     "output_type": "display_data"
    }
   ],
   "source": [
    "df['Line Item Insurance (USD)'].plot(kind='area',figsize=(12,6))"
   ]
  },
  {
   "cell_type": "code",
   "execution_count": 48,
   "metadata": {},
   "outputs": [],
   "source": [
    "df.fillna(value=np.NaN,inplace=True)"
   ]
  },
  {
   "cell_type": "code",
   "execution_count": 79,
   "metadata": {},
   "outputs": [
    {
     "name": "stdout",
     "output_type": "stream",
     "text": [
      "<class 'pandas.core.frame.DataFrame'>\n",
      "Int64Index: 8621 entries, 0 to 10320\n",
      "Data columns (total 33 columns):\n",
      " #   Column                        Non-Null Count  Dtype         \n",
      "---  ------                        --------------  -----         \n",
      " 0   ID                            8621 non-null   int64         \n",
      " 1   Project Code                  8621 non-null   object        \n",
      " 2   PQ                            8621 non-null   object        \n",
      " 3   PO/SO                         8621 non-null   object        \n",
      " 4   ASN/DN                        8621 non-null   object        \n",
      " 5   Country                       8621 non-null   object        \n",
      " 6   Managed By                    8621 non-null   object        \n",
      " 7   Fulfill Via                   8621 non-null   object        \n",
      " 8   Vendor INCO Term              8621 non-null   object        \n",
      " 9   Shipment Mode                 8310 non-null   object        \n",
      " 10  PQ First Sent to Client Date  8621 non-null   object        \n",
      " 11  PO Sent to Vendor Date        8621 non-null   object        \n",
      " 12  Scheduled Delivery Date       8621 non-null   datetime64[ns]\n",
      " 13  Delivered to Client Date      8621 non-null   datetime64[ns]\n",
      " 14  Delivery Recorded Date        8621 non-null   datetime64[ns]\n",
      " 15  Product Group                 8621 non-null   object        \n",
      " 16  Sub Classification            8621 non-null   object        \n",
      " 17  Vendor                        8621 non-null   object        \n",
      " 18  Item Description              8621 non-null   object        \n",
      " 19  Molecule/Test Type            8621 non-null   object        \n",
      " 20  Brand                         8621 non-null   object        \n",
      " 21  Dosage                        7045 non-null   object        \n",
      " 22  Dosage Form                   8621 non-null   object        \n",
      " 23  Unit of Measure (Per Pack)    8621 non-null   int64         \n",
      " 24  Line Item Quantity            8621 non-null   int64         \n",
      " 25  Line Item Value               8621 non-null   float64       \n",
      " 26  Pack Price                    8621 non-null   float64       \n",
      " 27  Unit Price                    8621 non-null   float64       \n",
      " 28  Manufacturing Site            8621 non-null   object        \n",
      " 29  First Line Designation        8621 non-null   object        \n",
      " 30  Weight                        8621 non-null   object        \n",
      " 31  Freight Cost (USD)            8621 non-null   object        \n",
      " 32  Line Item Insurance (USD)     8366 non-null   float64       \n",
      "dtypes: datetime64[ns](3), float64(4), int64(3), object(23)\n",
      "memory usage: 2.5+ MB\n"
     ]
    }
   ],
   "source": [
    "df.info()"
   ]
  },
  {
   "cell_type": "code",
   "execution_count": 82,
   "metadata": {},
   "outputs": [
    {
     "data": {
      "text/plain": [
       "<bound method Series.unique of 0        13                     \n",
       "1        358                    \n",
       "2        171                    \n",
       "3        1855                   \n",
       "4        7590                   \n",
       "         ...                    \n",
       "10316    1547                   \n",
       "10317    See DN-4282 (ID#:83919)\n",
       "10318    See DN-4307 (ID#:83920)\n",
       "10319    See DN-4307 (ID#:83920)\n",
       "10320    See DN-4313 (ID#:83921)\n",
       "Name: Weight, Length: 8621, dtype: object>"
      ]
     },
     "execution_count": 82,
     "metadata": {},
     "output_type": "execute_result"
    }
   ],
   "source": [
    "df['Weight']"
   ]
  },
  {
   "cell_type": "code",
   "execution_count": 142,
   "metadata": {},
   "outputs": [
    {
     "ename": "TypeError",
     "evalue": "int() takes at most 2 arguments (4 given)",
     "output_type": "error",
     "traceback": [
      "\u001b[0;31m---------------------------------------------------------------------------\u001b[0m",
      "\u001b[0;31mTypeError\u001b[0m                                 Traceback (most recent call last)",
      "\u001b[0;32m<ipython-input-142-a1f9aaed5bcd>\u001b[0m in \u001b[0;36m<module>\u001b[0;34m\u001b[0m\n\u001b[0;32m----> 1\u001b[0;31m list_01 = int(df[df['Weight (Kilograms)'] == 'See DN-4282 (ID#:83919)'].index,\n\u001b[0m\u001b[1;32m      2\u001b[0m \u001b[0mdf\u001b[0m\u001b[0;34m[\u001b[0m\u001b[0mdf\u001b[0m\u001b[0;34m[\u001b[0m\u001b[0;34m'Weight (Kilograms)'\u001b[0m\u001b[0;34m]\u001b[0m \u001b[0;34m==\u001b[0m \u001b[0;34m'See DN-4307 (ID#:83920)'\u001b[0m\u001b[0;34m]\u001b[0m\u001b[0;34m.\u001b[0m\u001b[0mindex\u001b[0m\u001b[0;34m,\u001b[0m\u001b[0;34m\u001b[0m\u001b[0;34m\u001b[0m\u001b[0m\n\u001b[1;32m      3\u001b[0m \u001b[0mdf\u001b[0m\u001b[0;34m[\u001b[0m\u001b[0mdf\u001b[0m\u001b[0;34m[\u001b[0m\u001b[0;34m'Weight (Kilograms)'\u001b[0m\u001b[0;34m]\u001b[0m \u001b[0;34m==\u001b[0m \u001b[0;34m'See DN-4307 (ID#:83921)'\u001b[0m\u001b[0;34m]\u001b[0m\u001b[0;34m.\u001b[0m\u001b[0mindex\u001b[0m\u001b[0;34m,\u001b[0m\u001b[0;34m\u001b[0m\u001b[0;34m\u001b[0m\u001b[0m\n\u001b[1;32m      4\u001b[0m df[df['Weight (Kilograms)'] == 'See DN-4313 (ID#:83921)'].index)\n",
      "\u001b[0;31mTypeError\u001b[0m: int() takes at most 2 arguments (4 given)"
     ]
    }
   ],
   "source": [
    "list_01 = int[df[df['Weight (Kilograms)'] == 'See DN-4282 (ID#:83919)'].index,\n",
    "df[df['Weight (Kilograms)'] == 'See DN-4307 (ID#:83920)'].index,\n",
    "df[df['Weight (Kilograms)'] == 'See DN-4307 (ID#:83921)'].index,\n",
    "df[df['Weight (Kilograms)'] == 'See DN-4313 (ID#:83921)'].index]"
   ]
  },
  {
   "cell_type": "code",
   "execution_count": 133,
   "metadata": {},
   "outputs": [
    {
     "data": {
      "text/plain": [
       "Int64Index([10317], dtype='int64')"
      ]
     },
     "execution_count": 133,
     "metadata": {},
     "output_type": "execute_result"
    }
   ],
   "source": [
    "df[df['Weight (Kilograms)'] == 'See DN-4282 (ID#:83919)'].index"
   ]
  },
  {
   "cell_type": "code",
   "execution_count": 130,
   "metadata": {},
   "outputs": [
    {
     "data": {
      "text/plain": [
       "[Int64Index([10317], dtype='int64'),\n",
       " Int64Index([8875, 8876, 10318, 10319], dtype='int64'),\n",
       " Int64Index([], dtype='int64'),\n",
       " Int64Index([8399, 10320], dtype='int64')]"
      ]
     },
     "execution_count": 130,
     "metadata": {},
     "output_type": "execute_result"
    }
   ],
   "source": [
    "list_1"
   ]
  },
  {
   "cell_type": "code",
   "execution_count": 143,
   "metadata": {},
   "outputs": [],
   "source": [
    "df.drop(df[df['Weight (Kilograms)'] == 'See DN-4307 (ID#:83920)'].index,inplace=True)"
   ]
  },
  {
   "cell_type": "code",
   "execution_count": 144,
   "metadata": {},
   "outputs": [],
   "source": [
    "df.drop(df[df['Weight (Kilograms)'] == 'See DN-4282 (ID#:83919)'].index,inplace=True)"
   ]
  },
  {
   "cell_type": "code",
   "execution_count": 145,
   "metadata": {},
   "outputs": [],
   "source": [
    "df.drop(df[df['Weight (Kilograms)'] == 'See DN-4307 (ID#:83920)'].index,inplace=True)"
   ]
  },
  {
   "cell_type": "code",
   "execution_count": 146,
   "metadata": {},
   "outputs": [],
   "source": [
    "df.drop(df[df['Weight (Kilograms)'] == 'See DN-4307 (ID#:83921)'].index,inplace=True)"
   ]
  },
  {
   "cell_type": "code",
   "execution_count": 148,
   "metadata": {},
   "outputs": [],
   "source": [
    "df.drop(df[df['Weight (Kilograms)'] == 'See DN-4313 (ID#:83921)'].index,inplace=True)"
   ]
  },
  {
   "cell_type": "code",
   "execution_count": 151,
   "metadata": {},
   "outputs": [
    {
     "data": {
      "text/plain": [
       "<bound method Series.unique of 0        13                        \n",
       "1        358                       \n",
       "2        171                       \n",
       "3        1855                      \n",
       "4        7590                      \n",
       "         ...                       \n",
       "10315    15198                     \n",
       "10316    1547                      \n",
       "10321    Weight Captured Separately\n",
       "10322    1392                      \n",
       "10323    Weight Captured Separately\n",
       "Name: Weight (Kilograms), Length: 10317, dtype: object>"
      ]
     },
     "execution_count": 151,
     "metadata": {},
     "output_type": "execute_result"
    }
   ],
   "source": [
    "df['Weight (Kilograms)'].unique"
   ]
  },
  {
   "cell_type": "code",
   "execution_count": 152,
   "metadata": {},
   "outputs": [
    {
     "data": {
      "text/plain": [
       "Int64Index([   12,    15,    16,    31,    35,    36,    37,    40,    42,\n",
       "               47,\n",
       "            ...\n",
       "            10116, 10117, 10163, 10171, 10173, 10182, 10190, 10300, 10321,\n",
       "            10323],\n",
       "           dtype='int64', length=1507)"
      ]
     },
     "execution_count": 152,
     "metadata": {},
     "output_type": "execute_result"
    }
   ],
   "source": [
    "df[df['Weight (Kilograms)']=='Weight Captured Separately'].index"
   ]
  },
  {
   "cell_type": "code",
   "execution_count": 153,
   "metadata": {},
   "outputs": [],
   "source": [
    "df.drop(df[df['Weight (Kilograms)']=='Weight Captured Separately'].index,inplace=True)"
   ]
  },
  {
   "cell_type": "code",
   "execution_count": 154,
   "metadata": {},
   "outputs": [
    {
     "data": {
      "text/plain": [
       "<bound method Series.unique of 0        13                     \n",
       "1        358                    \n",
       "2        171                    \n",
       "3        1855                   \n",
       "4        7590                   \n",
       "         ...                    \n",
       "10313    See DN-4177 (ID#:82804)\n",
       "10314    See DN-4274 (ID#:84472)\n",
       "10315    15198                  \n",
       "10316    1547                   \n",
       "10322    1392                   \n",
       "Name: Weight (Kilograms), Length: 8810, dtype: object>"
      ]
     },
     "execution_count": 154,
     "metadata": {},
     "output_type": "execute_result"
    }
   ],
   "source": [
    "df[\"Weight (Kilograms)\"].unique"
   ]
  },
  {
   "cell_type": "code",
   "execution_count": 178,
   "metadata": {},
   "outputs": [],
   "source": [
    "df.drop(df[df['Weight (Kilograms)'] == 'See DN-4243 (ID#:83907)'].index,inplace=True)"
   ]
  },
  {
   "cell_type": "code",
   "execution_count": 196,
   "metadata": {},
   "outputs": [],
   "source": [
    "df.loc[5,'Weight (Kilograms)'] = 504.1"
   ]
  },
  {
   "cell_type": "code",
   "execution_count": 197,
   "metadata": {},
   "outputs": [
    {
     "name": "stdout",
     "output_type": "stream",
     "text": [
      "<class 'pandas.core.frame.DataFrame'>\n",
      "Int64Index: 8799 entries, 0 to 10322\n",
      "Data columns (total 33 columns):\n",
      " #   Column                        Non-Null Count  Dtype         \n",
      "---  ------                        --------------  -----         \n",
      " 0   ID                            8799 non-null   int64         \n",
      " 1   Project Code                  8799 non-null   object        \n",
      " 2   PQ #                          8799 non-null   object        \n",
      " 3   PO / SO #                     8799 non-null   object        \n",
      " 4   ASN/DN #                      8799 non-null   object        \n",
      " 5   Country                       8799 non-null   object        \n",
      " 6   Managed By                    8799 non-null   object        \n",
      " 7   Fulfill Via                   8799 non-null   object        \n",
      " 8   Vendor INCO Term              8799 non-null   object        \n",
      " 9   Shipment Mode                 8486 non-null   object        \n",
      " 10  PQ First Sent to Client Date  8799 non-null   object        \n",
      " 11  PO Sent to Vendor Date        8799 non-null   object        \n",
      " 12  Scheduled Delivery Date       8799 non-null   datetime64[ns]\n",
      " 13  Delivered to Client Date      8799 non-null   datetime64[ns]\n",
      " 14  Delivery Recorded Date        8799 non-null   datetime64[ns]\n",
      " 15  Product Group                 8799 non-null   object        \n",
      " 16  Sub Classification            8799 non-null   object        \n",
      " 17  Vendor                        8799 non-null   object        \n",
      " 18  Item Description              8799 non-null   object        \n",
      " 19  Molecule/Test Type            8799 non-null   object        \n",
      " 20  Brand                         8799 non-null   object        \n",
      " 21  Dosage                        7208 non-null   object        \n",
      " 22  Dosage Form                   8799 non-null   object        \n",
      " 23  Unit of Measure (Per Pack)    8799 non-null   int64         \n",
      " 24  Line Item Quantity            8799 non-null   int64         \n",
      " 25  Line Item Value               8799 non-null   float64       \n",
      " 26  Pack Price                    8799 non-null   float64       \n",
      " 27  Unit Price                    8799 non-null   float64       \n",
      " 28  Manufacturing Site            8799 non-null   object        \n",
      " 29  First Line Designation        8799 non-null   object        \n",
      " 30  Weight (Kilograms)            8799 non-null   object        \n",
      " 31  Freight Cost (USD)            8799 non-null   object        \n",
      " 32  Line Item Insurance (USD)     8532 non-null   float64       \n",
      "dtypes: datetime64[ns](3), float64(4), int64(3), object(23)\n",
      "memory usage: 2.6+ MB\n"
     ]
    }
   ],
   "source": [
    "df.info()"
   ]
  },
  {
   "cell_type": "code",
   "execution_count": 9,
   "metadata": {},
   "outputs": [
    {
     "data": {
      "text/plain": [
       "Int64Index([   12,    15,    16,    31,    35,    36,    37,    40,    42,\n",
       "               47,\n",
       "            ...\n",
       "            10116, 10117, 10163, 10171, 10173, 10182, 10190, 10300, 10321,\n",
       "            10323],\n",
       "           dtype='int64', length=1507)"
      ]
     },
     "execution_count": 9,
     "metadata": {},
     "output_type": "execute_result"
    }
   ],
   "source": [
    "df[df['Weight (Kilograms)'] == 'Weight Captured Separately'].index"
   ]
  },
  {
   "cell_type": "code",
   "execution_count": 10,
   "metadata": {},
   "outputs": [],
   "source": [
    "shipping_df=df.drop(df[df['Weight (Kilograms)'] == 'Weight Captured Separately'].index,inplace=True)"
   ]
  },
  {
   "cell_type": "code",
   "execution_count": 11,
   "metadata": {},
   "outputs": [
    {
     "data": {
      "text/plain": [
       "Int64Index([    6,     9,    10,    21,    90,   133,   138,   146,   170,\n",
       "              185,\n",
       "            ...\n",
       "             9888,  9889,  9891,  9915,  9917,  9918,  9919, 10174, 10175,\n",
       "            10322],\n",
       "           dtype='int64', length=196)"
      ]
     },
     "execution_count": 11,
     "metadata": {},
     "output_type": "execute_result"
    }
   ],
   "source": [
    "df[df['Freight Cost (USD)'] == 'Freight Included in Commodity Cost'].index"
   ]
  },
  {
   "cell_type": "code",
   "execution_count": 12,
   "metadata": {},
   "outputs": [],
   "source": [
    "df.drop(df[df['Freight Cost (USD)'] == 'Freight Included in Commodity Cost'].index,inplace=True)"
   ]
  },
  {
   "cell_type": "code",
   "execution_count": 42,
   "metadata": {},
   "outputs": [
    {
     "name": "stdout",
     "output_type": "stream",
     "text": [
      "<class 'pandas.core.frame.DataFrame'>\n",
      "Int64Index: 8621 entries, 0 to 10320\n",
      "Data columns (total 33 columns):\n",
      " #   Column                        Non-Null Count  Dtype         \n",
      "---  ------                        --------------  -----         \n",
      " 0   ID                            8621 non-null   int64         \n",
      " 1   Project Code                  8621 non-null   object        \n",
      " 2   PQ                            8621 non-null   object        \n",
      " 3   PO/SO                         8621 non-null   object        \n",
      " 4   ASN/DN                        8621 non-null   object        \n",
      " 5   Country                       8621 non-null   object        \n",
      " 6   Managed By                    8621 non-null   object        \n",
      " 7   Fulfill Via                   8621 non-null   object        \n",
      " 8   Vendor INCO Term              8621 non-null   object        \n",
      " 9   Shipment Mode                 8310 non-null   object        \n",
      " 10  PQ First Sent to Client Date  8621 non-null   object        \n",
      " 11  PO Sent to Vendor Date        8621 non-null   object        \n",
      " 12  Scheduled Delivery Date       8621 non-null   datetime64[ns]\n",
      " 13  Delivered to Client Date      8621 non-null   datetime64[ns]\n",
      " 14  Delivery Recorded Date        8621 non-null   datetime64[ns]\n",
      " 15  Product Group                 8621 non-null   object        \n",
      " 16  Sub Classification            8621 non-null   object        \n",
      " 17  Vendor                        8621 non-null   object        \n",
      " 18  Item Description              8621 non-null   object        \n",
      " 19  Molecule/Test Type            8621 non-null   object        \n",
      " 20  Brand                         8621 non-null   object        \n",
      " 21  Dosage                        7045 non-null   object        \n",
      " 22  Dosage Form                   8621 non-null   object        \n",
      " 23  Unit of Measure (Per Pack)    8621 non-null   int64         \n",
      " 24  Line Item Quantity            8621 non-null   int64         \n",
      " 25  Line Item Value               8621 non-null   float64       \n",
      " 26  Pack Price                    8621 non-null   float64       \n",
      " 27  Unit Price                    8621 non-null   float64       \n",
      " 28  Manufacturing Site            8621 non-null   object        \n",
      " 29  First Line Designation        8621 non-null   object        \n",
      " 30  Weight                        8621 non-null   object        \n",
      " 31  Freight Cost (USD)            8621 non-null   object        \n",
      " 32  Line Item Insurance (USD)     8366 non-null   float64       \n",
      "dtypes: datetime64[ns](3), float64(4), int64(3), object(23)\n",
      "memory usage: 2.2+ MB\n"
     ]
    }
   ],
   "source": [
    "df.info()"
   ]
  },
  {
   "cell_type": "code",
   "execution_count": 41,
   "metadata": {},
   "outputs": [
    {
     "data": {
      "text/plain": [
       "Index(['ID', 'Project Code', 'PQ', 'PO/SO', 'ASN/DN', 'Country', 'Managed By',\n",
       "       'Fulfill Via', 'Vendor INCO Term', 'Shipment Mode',\n",
       "       'PQ First Sent to Client Date', 'PO Sent to Vendor Date',\n",
       "       'Scheduled Delivery Date', 'Delivered to Client Date',\n",
       "       'Delivery Recorded Date', 'Product Group', 'Sub Classification',\n",
       "       'Vendor', 'Item Description', 'Molecule/Test Type', 'Brand', 'Dosage',\n",
       "       'Dosage Form', 'Unit of Measure (Per Pack)', 'Line Item Quantity',\n",
       "       'Line Item Value', 'Pack Price', 'Unit Price', 'Manufacturing Site',\n",
       "       'First Line Designation', 'Weight', 'Freight Cost (USD)',\n",
       "       'Line Item Insurance (USD)'],\n",
       "      dtype='object')"
      ]
     },
     "execution_count": 41,
     "metadata": {},
     "output_type": "execute_result"
    }
   ],
   "source": [
    "df.columns"
   ]
  },
  {
   "cell_type": "code",
   "execution_count": 40,
   "metadata": {},
   "outputs": [],
   "source": [
    "df.rename(columns={\"PQ #\":\"PQ\", \"PO / SO #\":\"PO/SO\",\"ASN/DN #\":\"ASN/DN\",\n",
    "                                         'Weight (Kilograms)':\"Weight\"},errors='ignore',inplace=True)"
   ]
  },
  {
   "cell_type": "code",
   "execution_count": null,
   "metadata": {},
   "outputs": [],
   "source": [
    "df"
   ]
  },
  {
   "cell_type": "code",
   "execution_count": 37,
   "metadata": {
    "scrolled": true
   },
   "outputs": [
    {
     "data": {
      "text/plain": [
       "<AxesSubplot:>"
      ]
     },
     "execution_count": 37,
     "metadata": {},
     "output_type": "execute_result"
    },
    {
     "data": {
      "image/png": "[encoded data removed]",
      "text/plain": [
       "<Figure size 864x432 with 1 Axes>"
      ]
     },
     "metadata": {},
     "output_type": "display_data"
    }
   ],
   "source": [
    "df['Managed By'].value_counts().plot(kind='barh',figsize=(12,6))"
   ]
  },
  {
   "cell_type": "code",
   "execution_count": 38,
   "metadata": {},
   "outputs": [
    {
     "data": {
      "text/plain": [
       "<AxesSubplot:>"
      ]
     },
     "execution_count": 38,
     "metadata": {},
     "output_type": "execute_result"
    },
    {
     "data": {
      "image/png": "[encoded data removed]",
      "text/plain": [
       "<Figure size 864x720 with 1 Axes>"
      ]
     },
     "metadata": {},
     "output_type": "display_data"
    }
   ],
   "source": [
    "df.Country.value_counts().sort_values(ascending=True).plot(kind='barh',figsize=(12,10))"
   ]
  },
  {
   "cell_type": "code",
   "execution_count": null,
   "metadata": {},
   "outputs": [],
   "source": [
    "df['ID'].unique()"
   ]
  },
  {
   "cell_type": "code",
   "execution_count": null,
   "metadata": {},
   "outputs": [],
   "source": [
    "df['ID'].plot(kind='line')"
   ]
  },
  {
   "cell_type": "code",
   "execution_count": null,
   "metadata": {},
   "outputs": [],
   "source": [
    "df.groupby(['Shipment Mode'])['Revenue'].agg('sum')"
   ]
  },
  {
   "cell_type": "code",
   "execution_count": null,
   "metadata": {},
   "outputs": [],
   "source": []
  }
 ],
 "metadata": {
  "kernelspec": {
   "display_name": "Python 3",
   "language": "python",
   "name": "python3"
  },
  "language_info": {
   "codemirror_mode": {
    "name": "ipython",
    "version": 3
   },
   "file_extension": ".py",
   "mimetype": "text/x-python",
   "name": "python",
   "nbconvert_exporter": "python",
   "pygments_lexer": "ipython3",
   "version": "3.8.5"
  }
 },
 "nbformat": 4,
 "nbformat_minor": 4
}
